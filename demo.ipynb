{
 "cells": [
  {
   "cell_type": "code",
   "execution_count": 1,
   "metadata": {},
   "outputs": [
    {
     "name": "stderr",
     "output_type": "stream",
     "text": [
      "/Users/pulkitsinghal/Desktop/gen_ai/text-classify/textvenv/lib/python3.10/site-packages/tqdm/auto.py:21: TqdmWarning: IProgress not found. Please update jupyter and ipywidgets. See https://ipywidgets.readthedocs.io/en/stable/user_install.html\n",
      "  from .autonotebook import tqdm as notebook_tqdm\n"
     ]
    }
   ],
   "source": [
    "import torch\n",
    "from transformers import pipeline, is_torch_available\n",
    "from dotenv import load_dotenv\n",
    "import os"
   ]
  },
  {
   "cell_type": "code",
   "execution_count": 2,
   "metadata": {},
   "outputs": [
    {
     "name": "stdout",
     "output_type": "stream",
     "text": [
      "True\n",
      "cpu\n"
     ]
    }
   ],
   "source": [
    "print(is_torch_available())\n",
    "\n",
    "device = torch.device('cuda' if torch.cuda.is_available() else 'cpu')\n",
    "print(device)\n",
    "\n",
    "load_dotenv()\n",
    "\n",
    "task = os.getenv('task')\n",
    "model = os.getenv('model')"
   ]
  },
  {
   "cell_type": "code",
   "execution_count": null,
   "metadata": {},
   "outputs": [],
   "source": [
    "pipe = pipeline(task, model, device=device, framework='pt')\n",
    "\n",
    "def classify_text(text, top_results):\n",
    "    result = pipe(text, top_k = top_results) # array of dict\n",
    "    return result\n"
   ]
  },
  {
   "cell_type": "code",
   "execution_count": 14,
   "metadata": {},
   "outputs": [
    {
     "name": "stdout",
     "output_type": "stream",
     "text": [
      "[{'label': 'disapproval', 'score': 0.5448683500289917}, {'label': 'admiration', 'score': 0.3478008806705475}, {'label': 'disappointment', 'score': 0.1056639775633812}, {'label': 'annoyance', 'score': 0.09407030791044235}, {'label': 'disgust', 'score': 0.03327928110957146}, {'label': 'anger', 'score': 0.02547769993543625}, {'label': 'neutral', 'score': 0.02019467204809189}, {'label': 'approval', 'score': 0.019490044564008713}, {'label': 'love', 'score': 0.01096703764051199}, {'label': 'confusion', 'score': 0.010720567777752876}]\n"
     ]
    }
   ],
   "source": [
    "example = 'That movie was brilliant but I did not like actors'\n",
    "\n",
    "classify_text(example, 10)"
   ]
  }
 ],
 "metadata": {
  "kernelspec": {
   "display_name": "Python 3",
   "language": "python",
   "name": "python3"
  },
  "language_info": {
   "codemirror_mode": {
    "name": "ipython",
    "version": 3
   },
   "file_extension": ".py",
   "mimetype": "text/x-python",
   "name": "python",
   "nbconvert_exporter": "python",
   "pygments_lexer": "ipython3",
   "version": "3.10.0"
  }
 },
 "nbformat": 4,
 "nbformat_minor": 2
}
